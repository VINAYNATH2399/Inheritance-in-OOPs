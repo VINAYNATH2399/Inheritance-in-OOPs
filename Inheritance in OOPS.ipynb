{
 "cells": [
  {
   "cell_type": "code",
   "execution_count": null,
   "id": "ee4a7b95",
   "metadata": {},
   "outputs": [],
   "source": [
    "'''DEFINATION:-\n",
    "Inheritance is defined as the capability of one class to derive\\n\n",
    "or inherit the properties from some other class and use it whenever needed'''"
   ]
  },
  {
   "cell_type": "code",
   "execution_count": null,
   "id": "39151a91",
   "metadata": {},
   "outputs": [],
   "source": [
    "'''Types of Inheritance\n",
    "1.Single Inheritance\n",
    "2.Multiple Inheritance\n",
    "3.Multilevel Inheritance\n",
    "4.Hireaechical Inheritance\n",
    "5.Hybrid Inheritance'''"
   ]
  },
  {
   "cell_type": "code",
   "execution_count": 1,
   "id": "a0521be5",
   "metadata": {},
   "outputs": [
    {
     "name": "stdout",
     "output_type": "stream",
     "text": [
      "1i + 3j\n",
      "1i + 3j + 4k\n"
     ]
    }
   ],
   "source": [
    "#1. Single Heritance\n",
    "\n",
    "class c2dvec:\n",
    "    def __init__(self,i,j): \n",
    "        self.icap = i\n",
    "        self.jcap = j\n",
    "    def __str__(self):\n",
    "        return f\"{self.icap}i + {self.jcap}j\"\n",
    "class c3dvec(c2dvec):\n",
    "    def __init__(self,i,j,k):\n",
    "        super().__init__(i,j)\n",
    "        self.kcap = k\n",
    "    def __str__(self):\n",
    "        return f\"{self.icap}i + {self.jcap}j + {self.kcap}k\"\n",
    "# Deliver code    \n",
    "v2d = c2dvec(1,3)\n",
    "v3d = c3dvec(1,3,4)\n",
    "print(v2d)\n",
    "print(v3d)"
   ]
  },
  {
   "cell_type": "code",
   "execution_count": 2,
   "id": "ac532bca",
   "metadata": {},
   "outputs": [
    {
     "name": "stdout",
     "output_type": "stream",
     "text": [
      "Hey I am an Animal\n",
      "Hey I am a Dog\n",
      "I am a tommy\n"
     ]
    }
   ],
   "source": [
    "#2.Multiple Level Heritance\n",
    "\n",
    "class animal:\n",
    "    def __init__(self):\n",
    "        print(\"Hey I am an Animal\")\n",
    "    def does_with_legs(self):\n",
    "        print(\"It walks\")\n",
    "class dog(animal):\n",
    "    def __init__(self):\n",
    "        super().__init__()\n",
    "        print(\"Hey I am a Dog\")\n",
    "class cat(dog):\n",
    "    def __init__(self):\n",
    "        super().__init__()\n",
    "        print(\"I am a tommy\")\n",
    "tom = cat()"
   ]
  },
  {
   "cell_type": "code",
   "execution_count": 3,
   "id": "d3ba46c4",
   "metadata": {},
   "outputs": [
    {
     "name": "stdout",
     "output_type": "stream",
     "text": [
      "I am P2\n",
      "I am P3\n",
      "I am P1\n",
      "Hey I am a child\n"
     ]
    }
   ],
   "source": [
    "#3. Multiple Heritance\n",
    "\n",
    "class P1:\n",
    "    def __init__(self):\n",
    "        super().__init__()\n",
    "        print(\"I am P1\")\n",
    "        \n",
    "class P2:\n",
    "    def __init__(self):\n",
    "        super().__init__()\n",
    "        print(\"I am P2\")\n",
    "        \n",
    "class P3:\n",
    "    def __init__(self):\n",
    "        super().__init__()\n",
    "        print(\"I am P3\")\n",
    "        \n",
    "class child(P1,P3,P2):\n",
    "    def __init__(self):\n",
    "        super().__init__()\n",
    "        print(\"Hey I am a child\")\n",
    "        \n",
    "x1 = child()        "
   ]
  },
  {
   "cell_type": "code",
   "execution_count": 4,
   "id": "484671f9",
   "metadata": {},
   "outputs": [
    {
     "name": "stdout",
     "output_type": "stream",
     "text": [
      "I am child\n",
      "I am B\n",
      "I am P1\n",
      "I am C\n",
      "I am P2\n",
      "I am A\n"
     ]
    }
   ],
   "source": [
    "#4.Hybrid Inheritence\n",
    "\n",
    "class A:\n",
    "    def __init__(self):\n",
    "        \n",
    "        print(\"I am A\")\n",
    "        super().__init__()\n",
    "class P1(A):\n",
    "    def __init__(self):\n",
    "        \n",
    "        print(\"I am P1\")\n",
    "        super().__init__()\n",
    "class P2(A):\n",
    "    def __init__(self):\n",
    "       \n",
    "        print(\"I am P2\")\n",
    "        super().__init__()\n",
    "class B(P1):\n",
    "    def __init__(self):\n",
    "       \n",
    "        print(\"I am B\")\n",
    "        super().__init__()\n",
    "class C(P2):\n",
    "    def __init__(self):\n",
    "        \n",
    "        print(\"I am C\")\n",
    "        super().__init__()\n",
    "class child(B,C):\n",
    "    def __init__(self):\n",
    "        print(\"I am child\")\n",
    "        super().__init__()\n",
    "X1 = child()"
   ]
  },
  {
   "cell_type": "code",
   "execution_count": 1,
   "id": "95616cc1",
   "metadata": {},
   "outputs": [
    {
     "name": "stdout",
     "output_type": "stream",
     "text": [
      "This function is in parent class.\n",
      "This function is in child 1.\n",
      "This function is in parent class.\n",
      "This function is in child 2.\n"
     ]
    }
   ],
   "source": [
    "#5. Hierarchical Inheritance\n",
    "\n",
    "class Parent:\n",
    "      def func1(self):\n",
    "          print(\"This function is in parent class.\")\n",
    " \n",
    "#Derived class1 \n",
    "class Child1(Parent):\n",
    "      def func2(self):\n",
    "          print(\"This function is in child 1.\")\n",
    " \n",
    "# Derivied class2\n",
    "class Child2(Parent):\n",
    "      def func3(self):\n",
    "          print(\"This function is in child 2.\")\n",
    "  \n",
    "# Driver's code\n",
    "object1 = Child1()\n",
    "object2 = Child2()\n",
    "object1.func1()\n",
    "object1.func2()\n",
    "object2.func1()\n",
    "object2.func3()"
   ]
  },
  {
   "cell_type": "code",
   "execution_count": null,
   "id": "bf22a1a0",
   "metadata": {},
   "outputs": [],
   "source": []
  }
 ],
 "metadata": {
  "kernelspec": {
   "display_name": "Python 3 (ipykernel)",
   "language": "python",
   "name": "python3"
  },
  "language_info": {
   "codemirror_mode": {
    "name": "ipython",
    "version": 3
   },
   "file_extension": ".py",
   "mimetype": "text/x-python",
   "name": "python",
   "nbconvert_exporter": "python",
   "pygments_lexer": "ipython3",
   "version": "3.10.3"
  }
 },
 "nbformat": 4,
 "nbformat_minor": 5
}
